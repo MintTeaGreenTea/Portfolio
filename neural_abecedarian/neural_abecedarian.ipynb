{
 "cells": [
  {
   "cell_type": "markdown",
   "id": "7ca3f313",
   "metadata": {},
   "source": [
    "# Abecedarian Generator\n",
    "The corpus can be changed in order to generate Abecedarians with different tones and dictions. \n",
    "In this case, we will use a general poetry corpus, Elizabeth Browning's Sonnets from the Portuguese, and Oscar Wilde's Charmides and Other Poems. All of these texts are extracted from the Gutenberg Project. You can find them within the folder in this GitHub repository."
   ]
  },
  {
   "cell_type": "code",
   "execution_count": null,
   "id": "2b606524",
   "metadata": {},
   "outputs": [],
   "source": [
    "!pip install markovify\n",
    "import markovify\n",
    "import random"
   ]
  },
  {
   "cell_type": "code",
   "execution_count": 2,
   "id": "4bfd8707",
   "metadata": {},
   "outputs": [],
   "source": [
    "Browning = []\n",
    "with open('path/to/browning.txt', 'rt', encoding='utf-8') as inFile: # Change txt file to whichever corpus you choose\n",
    "    for line in inFile:\n",
    "        line = line.strip()\n",
    "        sentence = line.split(' ')\n",
    "        Browning.append(sentence)\n",
    "        \n",
    "Wilde = []\n",
    "with open('path/to/wilde.txt', 'rt', encoding='utf-8') as inFile: # Change txt file to whichever corpus you choose\n",
    "    for line in inFile:\n",
    "        line = line.strip()\n",
    "        sentence = line.split(' ')\n",
    "        Wilde.append(sentence)\n",
    "        \n",
    "poetry = []\n",
    "with open('path/to/poetry.txt', 'rt', encoding='utf-8') as inFile: # Change txt file to whichever corpus you choose\n",
    "    for line in inFile:\n",
    "        line = line.strip()\n",
    "        sentence = line.split(' ')\n",
    "        poetry.append(sentence)"
   ]
  },
  {
   "cell_type": "markdown",
   "id": "5f5e313d",
   "metadata": {},
   "source": [
    "In this next part, we just need to use markovify to create a trigram model that uses the corpus Browning, Wilde, or poetry. Although not essential, I have included a print statement to ensure this part of the code is working properly."
   ]
  },
  {
   "cell_type": "code",
   "execution_count": 12,
   "id": "87c07230",
   "metadata": {},
   "outputs": [
    {
     "name": "stdout",
     "output_type": "stream",
     "text": [
      "now soft on the flying deer .\n"
     ]
    }
   ],
   "source": [
    "big_poem = \"\\n\".join([' '.join(el) for el in poetry])\n",
    "model = markovify.NewlineText(big_poem)\n",
    "\n",
    "print(model.make_sentence())"
   ]
  },
  {
   "cell_type": "markdown",
   "id": "1520d06e",
   "metadata": {},
   "source": [
    "This next part creates the Abecedarian by generating new lines using the previously established statistical model, checking whether the first word of each line starts with the subsequent letter of the alphabet, and generating new lines until it does. When it successfully creates a line that matches the requirements, it prints it.\n",
    "I have limited the number of tries because some of the corpuses may lack words that start with particular letters (the Browning corpus, for example, has no words that start with 'X' or 'Z'), but this adaptation results in imperfect Abecedarians."
   ]
  },
  {
   "cell_type": "code",
   "execution_count": 13,
   "id": "3e6944fd",
   "metadata": {},
   "outputs": [],
   "source": [
    "def generateAbecedarian():\n",
    "\n",
    "  alphabet = ['a','b','c','d','e','f',\n",
    "            'g','h','i','j','k','l',\n",
    "            'm','n','o','p','q','r',\n",
    "            's','t','u','v','w','x',\n",
    "            'y','z']\n",
    "        \n",
    "  for i in range(26):\n",
    "    tries = 0\n",
    "    line_i = model.make_short_sentence(50)\n",
    "    while line_i == None:\n",
    "        line_i = model.make_short_sentence(50)\n",
    "    line_i_list = line_i.split(' ')\n",
    "    first_word_i = line_i_list[0]\n",
    "    first_letter_i = list(first_word_i)[0]\n",
    "    while first_letter_i != alphabet[i] and tries < 2000:\n",
    "        line_i = model.make_short_sentence(50)\n",
    "        while line_i == None:\n",
    "            line_i = model.make_short_sentence(50)\n",
    "        line_i_list = line_i.split(' ')\n",
    "        first_word_i = line_i_list[0]\n",
    "        first_letter_i = list(first_word_i)[0]\n",
    "        tries = tries + 1\n",
    "    else:\n",
    "        print(line_i)    "
   ]
  },
  {
   "cell_type": "code",
   "execution_count": 17,
   "id": "2f2f6a84",
   "metadata": {},
   "outputs": [
    {
     "name": "stdout",
     "output_type": "stream",
     "text": [
      "and wishes , vain lover ,\n",
      "but what am i not sin , until\n",
      "caught in a lone ship that caused his pain .\n",
      "down with tender eyes , invokes relief ;\n",
      "either to food or money to the starving - place ;\n",
      "falle it to its force ,\n",
      "gang about his travels .\n",
      "hear the deep , wild ,\n",
      "is a place to fare\n",
      "jesters from the furnace ,\n",
      "keeping this house of her utterance broke :\n",
      "laughing aloud on its pinions till the moon\n",
      "man to his palace ; at last\n",
      "no law could bridle his own place to die,--\n",
      "one drop more . why did i make\n",
      "personality unique : for see where she passes .\n",
      "que es lo menos de su esclarecido deudo .\n",
      "run riot all around ,\n",
      "supply'd by springs that on the evening sun\n",
      "to darken all the country is weary the first\n",
      "upon the earth will not keep her ,\n",
      "virginia , virgin anew ,\n",
      "why did you lay\n",
      "x was once a year ago ,\n",
      "you say ! what a horrid laugh ,\n",
      "now let us see , in its flight !\n"
     ]
    }
   ],
   "source": [
    "generateAbecedarian()"
   ]
  },
  {
   "cell_type": "code",
   "execution_count": null,
   "id": "45f4b04d",
   "metadata": {},
   "outputs": [],
   "source": []
  },
  {
   "cell_type": "code",
   "execution_count": null,
   "id": "9b7e6aa9",
   "metadata": {},
   "outputs": [],
   "source": []
  }
 ],
 "metadata": {
  "kernelspec": {
   "display_name": "Python 3",
   "language": "python",
   "name": "python3"
  },
  "language_info": {
   "codemirror_mode": {
    "name": "ipython",
    "version": 3
   },
   "file_extension": ".py",
   "mimetype": "text/x-python",
   "name": "python",
   "nbconvert_exporter": "python",
   "pygments_lexer": "ipython3",
   "version": "3.8.8"
  }
 },
 "nbformat": 4,
 "nbformat_minor": 5
}
